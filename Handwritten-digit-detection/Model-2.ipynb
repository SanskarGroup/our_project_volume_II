{
 "cells": [
  {
   "cell_type": "code",
   "execution_count": 1,
   "id": "40245dc8-0435-4591-8af5-775f529c6828",
   "metadata": {},
   "outputs": [],
   "source": [
    "from tensorflow.keras.models import load_model\n",
    "\n",
    "lanet5_model = load_model('custom_model.keras')"
   ]
  },
  {
   "cell_type": "code",
   "execution_count": 22,
   "id": "081eaffa-0ad7-4ac9-b941-d8b521690006",
   "metadata": {},
   "outputs": [],
   "source": [
    "# import cv2\n",
    "# import numpy as np\n",
    "\n",
    "# def preprocess_image(image_path):\n",
    "#     image = cv2.imread(image_path)\n",
    "\n",
    "#     if len(image.shape) == 3:\n",
    "#         image = cv2.cvtColor(image, cv2.COLOR_BGR2GRAY)\n",
    "\n",
    "#     if np.mean(image) > 127:  # 127 is the midpoint for 8-bit grayscale\n",
    "#         image = cv2.bitwise_not(image)\n",
    "    \n",
    "#     # Resize to 28x28 pixels\n",
    "#     image = cv2.resize(image, (28, 28))\n",
    "    \n",
    "#     # Normalize to [0, 1]\n",
    "#     image = image.astype('float32') / 255\n",
    "#     image = image.reshape(1, 28, 28, 1)  # Reshape to match model input\n",
    "    \n",
    "#     return image\n",
    "\n",
    "# # Example usage\n",
    "# user_image = preprocess_image('1.png')\n",
    "# prediction = lanet5_model.predict(user_image)\n",
    "# predicted_label = np.argmax(prediction)\n",
    "# print(f\"Predicted Label: {predicted_label}\")"
   ]
  },
  {
   "cell_type": "code",
   "execution_count": 25,
   "id": "082132a7-8b40-4a5b-9c94-5dbad90cc9c5",
   "metadata": {},
   "outputs": [
    {
     "name": "stdout",
     "output_type": "stream",
     "text": [
      "WARNING:tensorflow:6 out of the last 15 calls to <function TensorFlowTrainer.make_predict_function.<locals>.one_step_on_data_distributed at 0x0000024D3D5E4E00> triggered tf.function retracing. Tracing is expensive and the excessive number of tracings could be due to (1) creating @tf.function repeatedly in a loop, (2) passing tensors with different shapes, (3) passing Python objects instead of tensors. For (1), please define your @tf.function outside of the loop. For (2), @tf.function has reduce_retracing=True option that can avoid unnecessary retracing. For (3), please refer to https://www.tensorflow.org/guide/function#controlling_retracing and https://www.tensorflow.org/api_docs/python/tf/function for  more details.\n",
      "\u001b[1m1/1\u001b[0m \u001b[32m━━━━━━━━━━━━━━━━━━━━\u001b[0m\u001b[37m\u001b[0m \u001b[1m0s\u001b[0m 90ms/step\n"
     ]
    },
    {
     "data": {
      "image/png": "[encoded data removed]",
      "text/plain": [
       "<Figure size 640x480 with 1 Axes>"
      ]
     },
     "metadata": {},
     "output_type": "display_data"
    }
   ],
   "source": [
    "import cv2\n",
    "import numpy as np\n",
    "import matplotlib.pyplot as plt\n",
    "from tensorflow.keras.models import load_model\n",
    "\n",
    "lanet5_model = load_model('custom_model.keras')\n",
    "\n",
    "def preprocess_image(image_path):\n",
    "    try:\n",
    "\n",
    "        image = cv2.imread(image_path)\n",
    "        if image is None:\n",
    "            raise ValueError(\"Image not found or unable to read.\")\n",
    "\n",
    "        gray_image = cv2.cvtColor(image, cv2.COLOR_BGR2GRAY)\n",
    "\n",
    "        resized_image = cv2.resize(gray_image, (128, 128))\n",
    "\n",
    "        normalized_image = resized_image.astype('float32') / 255\n",
    "\n",
    "        input_image = normalized_image.reshape(1, 128, 128, 1)\n",
    "\n",
    "        return image, input_image\n",
    "    except Exception as e:\n",
    "        print(f\"Error in preprocessing: {e}\")\n",
    "        return None, None\n",
    "\n",
    "def predict_and_display(image_path):\n",
    "\n",
    "    original_image, processed_image = preprocess_image(image_path)\n",
    "\n",
    "    if processed_image is not None:\n",
    "\n",
    "        prediction = lanet5_model.predict(processed_image)\n",
    "        predicted_label = np.argmax(prediction)\n",
    "        confidence = prediction[0][predicted_label] * 100\n",
    "\n",
    "        height, width = original_image.shape[:2]\n",
    "        cv2.rectangle(original_image, (10, 10), (width - 10, height - 10), (0, 255, 0), 3)\n",
    "\n",
    "        text = f\"Predicted: {predicted_label}, Confidence: {confidence:.2f}%\"\n",
    "        cv2.putText(original_image, text, (20, 40), cv2.FONT_HERSHEY_SIMPLEX, 1, (0, 255, 0), 2)\n",
    "\n",
    "        original_image_rgb = cv2.cvtColor(original_image, cv2.COLOR_BGR2RGB)\n",
    "\n",
    "        plt.imshow(original_image_rgb)\n",
    "        plt.axis('off')\n",
    "        plt.title(text)\n",
    "        plt.show()\n",
    "    else:\n",
    "        print(\"Image preprocessing failed.\")\n",
    "\n",
    "predict_and_display('keras.png')\n",
    "def predict_and_display(image_path, true_label):\n",
    "\n",
    "    original_image, processed_image = preprocess_image(image_path)\n",
    "\n",
    "    if processed_image is not None:\n",
    "\n",
    "        prediction = lanet5_model.predict(processed_image)\n",
    "        predicted_label = np.argmax(prediction)\n",
    "        confidence = prediction[0][predicted_label] * 100\n",
    "\n",
    "        height, width = original_image.shape[:2]\n",
    "        cv2.rectangle(original_image, (10, 10), (width - 10, height - 10), (0, 255, 0), 3)\n",
    "\n",
    "        text = f\"Predicted: {predicted_label}, Confidence: {confidence:.2f}%\"\n",
    "        cv2.putText(original_image, text, (20, 20), cv2.FONT_HERSHEY_SIMPLEX, 1, (0, 255, 0), 2)\n",
    "\n",
    "        original_image_rgb = cv2.cvtColor(original_image, cv2.COLOR_BGR2RGB)\n",
    "        plt.imshow(original_image_rgb)\n",
    "        plt.axis('off')\n",
    "        plt.title(text)\n",
    "        plt.show()\n",
    "\n",
    "        y_true = [true_label]  \n",
    "        y_pred = [predicted_label]  \n",
    "        f1 = f1_score(y_true, y_pred, average='weighted')\n",
    "        print(f\"F1 Score: {f1:.2f}\")\n",
    "    else:\n",
    "        print(\"Image preprocessing failed.\")"
   ]
  },
  {
   "cell_type": "code",
   "execution_count": 33,
   "id": "4867ea21-060c-4082-8728-6d1b94556bd2",
   "metadata": {},
   "outputs": [
    {
     "name": "stdout",
     "output_type": "stream",
     "text": [
      "\u001b[1m1/1\u001b[0m \u001b[32m━━━━━━━━━━━━━━━━━━━━\u001b[0m\u001b[37m\u001b[0m \u001b[1m0s\u001b[0m 106ms/step\n"
     ]
    },
    {
     "data": {
      "image/png": "[encoded data removed]",
      "text/plain": [
       "<Figure size 640x480 with 1 Axes>"
      ]
     },
     "metadata": {},
     "output_type": "display_data"
    }
   ],
   "source": [
    "import cv2\n",
    "import numpy as np\n",
    "import matplotlib.pyplot as plt\n",
    "from sklearn.metrics import f1_score\n",
    "from tensorflow.keras.models import load_model\n",
    "\n",
    "lanet5_model = load_model('custom_model.keras')\n",
    "\n",
    "def preprocess_image(image_path):\n",
    "    try:\n",
    "        image = cv2.imread(image_path, cv2.IMREAD_GRAYSCALE)\n",
    "        if image is None:\n",
    "            raise ValueError(\"Image not found or unable to read.\")\n",
    "\n",
    "        normalized_image = image.astype('float32') / 255\n",
    "\n",
    "        input_image = np.expand_dims(normalized_image, axis=(0, -1)).astype('float32')\n",
    "\n",
    "        return image, input_image\n",
    "    except Exception as e:\n",
    "        print(f\"Error in preprocessing: {e}\")\n",
    "        return None, None\n",
    "\n",
    "def predict_and_display(image_path, true_label):\n",
    "    original_image, processed_image = preprocess_image(image_path)\n",
    "\n",
    "    if processed_image is not None:\n",
    "        prediction = lanet5_model.predict(processed_image)\n",
    "        predicted_label = np.argmax(prediction)\n",
    "        confidence = prediction[0][predicted_label] * 100\n",
    "\n",
    "        color_image = cv2.cvtColor(original_image, cv2.COLOR_GRAY2BGR)\n",
    "\n",
    "        height, width = color_image.shape[:2]\n",
    "        cv2.rectangle(color_image, (10, 10), (width - 10, height - 10), (0, 255, 0), 2)\n",
    "\n",
    "        text = f\"Predicted: {predicted_label}, Confidence: {confidence:.2f}%\"\n",
    "        cv2.putText(color_image, text, (10, 30), cv2.FONT_HERSHEY_SIMPLEX, 0.6, (0, 255, 0), 1)\n",
    "\n",
    "        plt.imshow(cv2.cvtColor(color_image, cv2.COLOR_BGR2RGB))\n",
    "        plt.axis('off')\n",
    "        plt.title(text)\n",
    "        plt.show()\n",
    "\n",
    "    else:\n",
    "        print(\"Image preprocessing failed.\")\n",
    "predict_and_display('keras.png', true_label=1)"
   ]
  },
  {
   "cell_type": "code",
   "execution_count": 2,
   "id": "9d233d94-610c-4481-930c-7040a58f3cb1",
   "metadata": {},
   "outputs": [
    {
     "name": "stdout",
     "output_type": "stream",
     "text": [
      "\u001b[1m1/1\u001b[0m \u001b[32m━━━━━━━━━━━━━━━━━━━━\u001b[0m\u001b[37m\u001b[0m \u001b[1m0s\u001b[0m 235ms/step\n",
      "Predicted Label: 5\n"
     ]
    }
   ],
   "source": [
    "import cv2\n",
    "import numpy as np\n",
    "\n",
    "def preprocess_image(image_path):\n",
    "    # Read the image\n",
    "    image = cv2.imread(image_path)\n",
    "\n",
    "    # Convert to grayscale to match model input requirements\n",
    "    image = cv2.cvtColor(image, cv2.COLOR_BGR2GRAY)\n",
    "\n",
    "    # Resize to match the model's expected input size\n",
    "    image = cv2.resize(image, (128, 128))\n",
    "\n",
    "    # Normalize the pixel values to [0, 1]\n",
    "    image = image.astype('float32') / 255\n",
    "\n",
    "    # Add channel dimension for grayscale image\n",
    "    image = image.reshape(1, 128, 128, 1)\n",
    "\n",
    "    return image\n",
    "\n",
    "# Example usage\n",
    "user_image = preprocess_image('kers.png')\n",
    "prediction = lanet5_model.predict(user_image)\n",
    "predicted_label = np.argmax(prediction)\n",
    "print(f\"Predicted Label: {predicted_label}\")\n"
   ]
  },
  {
   "cell_type": "code",
   "execution_count": 16,
   "id": "5018eea1-9dae-438f-95d4-964ceb78e0ec",
   "metadata": {},
   "outputs": [
    {
     "name": "stdout",
     "output_type": "stream",
     "text": [
      "\u001b[1m1/1\u001b[0m \u001b[32m━━━━━━━━━━━━━━━━━━━━\u001b[0m\u001b[37m\u001b[0m \u001b[1m0s\u001b[0m 29ms/step\n",
      "Predicted Labels: [1 4 8 5]\n",
      "The accuracy of the model is : 97.23%\n"
     ]
    }
   ],
   "source": [
    "import cv2\n",
    "import numpy as np\n",
    "\n",
    "def preprocess_images(image_paths):\n",
    "    processed_images = []\n",
    "\n",
    "    for image_path in image_paths:\n",
    "\n",
    "        image = cv2.imread(image_path)\n",
    "\n",
    "        image = cv2.cvtColor(image, cv2.COLOR_BGR2GRAY)\n",
    "\n",
    "        image = cv2.resize(image, (128, 128))\n",
    "\n",
    "        image = image.astype('float32') / 255\n",
    "\n",
    "        image = image.reshape(128, 128, 1)\n",
    "\n",
    "        processed_images.append(image)\n",
    "    return np.array(processed_images)\n",
    "image_paths = ['1.png', '5.png', '8.png', \"keras.png\"]\n",
    "user_images = preprocess_images(image_paths)\n",
    "predictions = lanet5_model.predict(user_images)\n",
    "predicted_labels = np.argmax(predictions, axis=1)\n",
    "print(f\"Predicted Labels: {predicted_labels}\")\n",
    "\n",
    "confidence = prediction[0][predicted_label] * 100\n",
    "\n",
    "print(f\"The accuracy of the model is : {confidence:.2f}%\")\n"
   ]
  },
  {
   "cell_type": "code",
   "execution_count": 46,
   "id": "44f9eb63-4f1c-4136-a970-c69471a489c7",
   "metadata": {},
   "outputs": [
    {
     "name": "stdout",
     "output_type": "stream",
     "text": [
      "\u001b[1m1/1\u001b[0m \u001b[32m━━━━━━━━━━━━━━━━━━━━\u001b[0m\u001b[37m\u001b[0m \u001b[1m0s\u001b[0m 78ms/step\n"
     ]
    },
    {
     "data": {
      "image/png": "[encoded data removed]",
      "text/plain": [
       "<Figure size 640x480 with 1 Axes>"
      ]
     },
     "metadata": {},
     "output_type": "display_data"
    },
    {
     "name": "stdout",
     "output_type": "stream",
     "text": [
      "Predictions (Digit, Confidence):\n",
      "Digit: 0, Confidence: 99.95%\n"
     ]
    }
   ],
   "source": [
    "import cv2\n",
    "import numpy as np\n",
    "import matplotlib.pyplot as plt\n",
    "from tensorflow.keras.models import load_model\n",
    "\n",
    "# Load the pre-trained model\n",
    "lanet5_model = load_model('custom_model.keras')\n",
    "\n",
    "def preprocess_single_image(image):\n",
    "    # Convert to grayscale\n",
    "    gray_image = cv2.cvtColor(image, cv2.COLOR_BGR2GRAY)\n",
    "    \n",
    "    # Resize the extracted digit to 128x128\n",
    "    resized_image = cv2.resize(gray_image, (128, 128), interpolation=cv2.INTER_AREA)\n",
    "    \n",
    "    # Normalize and reshape the image\n",
    "    normalized_image = resized_image.astype('float32') / 255.0\n",
    "    input_image = normalized_image.reshape(1, 128, 128, 1)  # Model input format\n",
    "    return input_image\n",
    "\n",
    "def detect_and_predict_digits(image_path):\n",
    "    try:\n",
    "        # Load the original image\n",
    "        original_image = cv2.imread(image_path)\n",
    "        if original_image is None:\n",
    "            raise ValueError(\"Image not found or unable to read.\")\n",
    "        \n",
    "        # Convert the image to grayscale and threshold it\n",
    "        gray_image = cv2.cvtColor(original_image, cv2.COLOR_BGR2GRAY)\n",
    "        _, binary_image = cv2.threshold(gray_image, 128, 255, cv2.THRESH_BINARY_INV)\n",
    "        \n",
    "        # Find contours for detecting individual digits\n",
    "        contours, _ = cv2.findContours(binary_image, cv2.RETR_EXTERNAL, cv2.CHAIN_APPROX_SIMPLE)\n",
    "        \n",
    "        # Convert the original image to color for visualization\n",
    "        color_image = cv2.cvtColor(gray_image, cv2.COLOR_GRAY2BGR)\n",
    "\n",
    "        predictions = []  # To store predictions and confidence scores\n",
    "\n",
    "        for contour in contours:\n",
    "            # Get bounding box for each contour\n",
    "            x, y, w, h = cv2.boundingRect(contour)\n",
    "            \n",
    "            # Ensure the detected region is large enough\n",
    "            if w > 20 and h > 20:\n",
    "                # Extract the digit region\n",
    "                digit_region = original_image[y:y+h, x:x+w]\n",
    "                \n",
    "                # Preprocess the extracted region\n",
    "                input_image = preprocess_single_image(digit_region)\n",
    "                \n",
    "                # Predict the digit\n",
    "                prediction = lanet5_model.predict(input_image)\n",
    "                predicted_label = np.argmax(prediction)\n",
    "                confidence = prediction[0][predicted_label] * 100\n",
    "                \n",
    "                # Save prediction info\n",
    "                predictions.append((predicted_label, confidence))\n",
    "                \n",
    "                # Draw bounding box and label on the image\n",
    "                cv2.rectangle(color_image, (x, y), (x+w, y+h), (0, 255, 0), 2)\n",
    "                label_text = f\"{predicted_label} ({confidence:.1f}%)\"\n",
    "                cv2.putText(color_image, label_text, (x, y-10), cv2.FONT_HERSHEY_SIMPLEX, 0.6, (0, 255, 0), 1)\n",
    "\n",
    "        # Display the final image with predictions\n",
    "        plt.imshow(cv2.cvtColor(color_image, cv2.COLOR_BGR2RGB))\n",
    "        plt.axis('off')\n",
    "        plt.title(\"Detected Digits with Predictions\")\n",
    "        plt.show()\n",
    "\n",
    "        # Print predictions in the console\n",
    "        print(\"Predictions (Digit, Confidence):\")\n",
    "        for digit, conf in predictions:\n",
    "            print(f\"Digit: {digit}, Confidence: {conf:.2f}%\")\n",
    "\n",
    "    except Exception as e:\n",
    "        print(f\"Error: {e}\")\n",
    "\n",
    "# Path to your image containing multiple digits\n",
    "detect_and_predict_digits('123.png')\n"
   ]
  },
  {
   "cell_type": "code",
   "execution_count": 36,
   "id": "933b3c70-f659-40f2-8476-07db82a1b8f7",
   "metadata": {},
   "outputs": [
    {
     "name": "stdout",
     "output_type": "stream",
     "text": [
      "(None, 128, 128, 1)\n"
     ]
    }
   ],
   "source": [
    "print(lanet5_model.input_shape)\n"
   ]
  },
  {
   "cell_type": "code",
   "execution_count": null,
   "id": "444a2177-eb62-46ec-b2c8-89cde4f7bc99",
   "metadata": {},
   "outputs": [],
   "source": []
  }
 ],
 "metadata": {
  "kernelspec": {
   "display_name": "Python 3 (ipykernel)",
   "language": "python",
   "name": "python3"
  },
  "language_info": {
   "codemirror_mode": {
    "name": "ipython",
    "version": 3
   },
   "file_extension": ".py",
   "mimetype": "text/x-python",
   "name": "python",
   "nbconvert_exporter": "python",
   "pygments_lexer": "ipython3",
   "version": "3.12.5"
  }
 },
 "nbformat": 4,
 "nbformat_minor": 5
}
