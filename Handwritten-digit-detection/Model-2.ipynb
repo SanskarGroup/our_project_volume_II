{
 "cells": [
  {
   "cell_type": "code",
   "execution_count": 1,
   "id": "40245dc8-0435-4591-8af5-775f529c6828",
   "metadata": {},
   "outputs": [],
   "source": [
    "from tensorflow.keras.models import load_model\n",
    "\n",
    "lanet5_model = load_model('custom_model.keras')"
   ]
  },
  {
   "cell_type": "code",
   "execution_count": 2,
   "id": "081eaffa-0ad7-4ac9-b941-d8b521690006",
   "metadata": {},
   "outputs": [
    {
     "ename": "AttributeError",
     "evalue": "'NoneType' object has no attribute 'shape'",
     "output_type": "error",
     "traceback": [
      "\u001b[1;31m---------------------------------------------------------------------------\u001b[0m",
      "\u001b[1;31mAttributeError\u001b[0m                            Traceback (most recent call last)",
      "Cell \u001b[1;32mIn[2], line 23\u001b[0m\n\u001b[0;32m     20\u001b[0m     \u001b[38;5;28;01mreturn\u001b[39;00m image\n\u001b[0;32m     22\u001b[0m \u001b[38;5;66;03m# Example usage\u001b[39;00m\n\u001b[1;32m---> 23\u001b[0m user_image \u001b[38;5;241m=\u001b[39m \u001b[43mpreprocess_image\u001b[49m\u001b[43m(\u001b[49m\u001b[38;5;124;43m'\u001b[39;49m\u001b[38;5;124;43m1.jpg\u001b[39;49m\u001b[38;5;124;43m'\u001b[39;49m\u001b[43m)\u001b[49m\n\u001b[0;32m     24\u001b[0m prediction \u001b[38;5;241m=\u001b[39m lanet5_model\u001b[38;5;241m.\u001b[39mpredict(user_image)\n\u001b[0;32m     25\u001b[0m predicted_label \u001b[38;5;241m=\u001b[39m np\u001b[38;5;241m.\u001b[39margmax(prediction)\n",
      "Cell \u001b[1;32mIn[2], line 7\u001b[0m, in \u001b[0;36mpreprocess_image\u001b[1;34m(image_path)\u001b[0m\n\u001b[0;32m      4\u001b[0m \u001b[38;5;28;01mdef\u001b[39;00m \u001b[38;5;21mpreprocess_image\u001b[39m(image_path):\n\u001b[0;32m      5\u001b[0m     image \u001b[38;5;241m=\u001b[39m cv2\u001b[38;5;241m.\u001b[39mimread(image_path)\n\u001b[1;32m----> 7\u001b[0m     \u001b[38;5;28;01mif\u001b[39;00m \u001b[38;5;28mlen\u001b[39m(\u001b[43mimage\u001b[49m\u001b[38;5;241;43m.\u001b[39;49m\u001b[43mshape\u001b[49m) \u001b[38;5;241m==\u001b[39m \u001b[38;5;241m3\u001b[39m:\n\u001b[0;32m      8\u001b[0m         image \u001b[38;5;241m=\u001b[39m cv2\u001b[38;5;241m.\u001b[39mcvtColor(image, cv2\u001b[38;5;241m.\u001b[39mCOLOR_BGR2GRAY)\n\u001b[0;32m     10\u001b[0m     \u001b[38;5;28;01mif\u001b[39;00m np\u001b[38;5;241m.\u001b[39mmean(image) \u001b[38;5;241m>\u001b[39m \u001b[38;5;241m127\u001b[39m:  \u001b[38;5;66;03m# 127 is the midpoint for 8-bit grayscale\u001b[39;00m\n",
      "\u001b[1;31mAttributeError\u001b[0m: 'NoneType' object has no attribute 'shape'"
     ]
    }
   ],
   "source": [
    "import cv2\n",
    "import numpy as np\n",
    "\n",
    "def preprocess_image(image_path):\n",
    "    image = cv2.imread(image_path)\n",
    "\n",
    "    if len(image.shape) == 3:\n",
    "        image = cv2.cvtColor(image, cv2.COLOR_BGR2GRAY)\n",
    "\n",
    "    if np.mean(image) > 127:  # 127 is the midpoint for 8-bit grayscale\n",
    "        image = cv2.bitwise_not(image)\n",
    "    \n",
    "    # Resize to 28x28 pixels\n",
    "    image = cv2.resize(image, (28, 28))\n",
    "    \n",
    "    # Normalize to [0, 1]\n",
    "    image = image.astype('float32') / 255\n",
    "    image = image.reshape(1, 28, 28, 1)  # Reshape to match model input\n",
    "    \n",
    "    return image\n",
    "\n",
    "# Example usage\n",
    "user_image = preprocess_image('1.jpg')\n",
    "prediction = lanet5_model.predict(user_image)\n",
    "predicted_label = np.argmax(prediction)\n",
    "print(f\"Predicted Label: {predicted_label}\")"
   ]
  },
  {
   "cell_type": "code",
   "execution_count": 8,
   "id": "082132a7-8b40-4a5b-9c94-5dbad90cc9c5",
   "metadata": {},
   "outputs": [
    {
     "ename": "AttributeError",
     "evalue": "'NoneType' object has no attribute 'shape'",
     "output_type": "error",
     "traceback": [
      "\u001b[1;31m---------------------------------------------------------------------------\u001b[0m",
      "\u001b[1;31mAttributeError\u001b[0m                            Traceback (most recent call last)",
      "Cell \u001b[1;32mIn[8], line 23\u001b[0m\n\u001b[0;32m     20\u001b[0m     \u001b[38;5;28;01mreturn\u001b[39;00m image\n\u001b[0;32m     22\u001b[0m \u001b[38;5;66;03m# Example usage\u001b[39;00m\n\u001b[1;32m---> 23\u001b[0m user_image \u001b[38;5;241m=\u001b[39m \u001b[43mpreprocess_image\u001b[49m\u001b[43m(\u001b[49m\u001b[38;5;124;43m'\u001b[39;49m\u001b[38;5;124;43m3.png\u001b[39;49m\u001b[38;5;124;43m'\u001b[39;49m\u001b[43m)\u001b[49m\n\u001b[0;32m     24\u001b[0m prediction \u001b[38;5;241m=\u001b[39m lanet5_model\u001b[38;5;241m.\u001b[39mpredict(user_image)\n\u001b[0;32m     25\u001b[0m predicted_label \u001b[38;5;241m=\u001b[39m np\u001b[38;5;241m.\u001b[39margmax(prediction)\n",
      "Cell \u001b[1;32mIn[8], line 7\u001b[0m, in \u001b[0;36mpreprocess_image\u001b[1;34m(image_path)\u001b[0m\n\u001b[0;32m      4\u001b[0m \u001b[38;5;28;01mdef\u001b[39;00m \u001b[38;5;21mpreprocess_image\u001b[39m(image_path):\n\u001b[0;32m      5\u001b[0m     image \u001b[38;5;241m=\u001b[39m cv2\u001b[38;5;241m.\u001b[39mimread(image_path)\n\u001b[1;32m----> 7\u001b[0m     \u001b[38;5;28;01mif\u001b[39;00m \u001b[38;5;28mlen\u001b[39m(\u001b[43mimage\u001b[49m\u001b[38;5;241;43m.\u001b[39;49m\u001b[43mshape\u001b[49m) \u001b[38;5;241m==\u001b[39m \u001b[38;5;241m3\u001b[39m:\n\u001b[0;32m      8\u001b[0m         image \u001b[38;5;241m=\u001b[39m cv2\u001b[38;5;241m.\u001b[39mcvtColor(image, cv2\u001b[38;5;241m.\u001b[39mCOLOR_BGR2GRAY)\n\u001b[0;32m     10\u001b[0m     \u001b[38;5;28;01mif\u001b[39;00m np\u001b[38;5;241m.\u001b[39mmean(image) \u001b[38;5;241m>\u001b[39m \u001b[38;5;241m127\u001b[39m:  \u001b[38;5;66;03m# 127 is the midpoint for 8-bit grayscale\u001b[39;00m\n",
      "\u001b[1;31mAttributeError\u001b[0m: 'NoneType' object has no attribute 'shape'"
     ]
    }
   ],
   "source": [
    "import cv2\n",
    "import numpy as np\n",
    "\n",
    "def preprocess_image(image_path):\n",
    "    image = cv2.imread(image_path)\n",
    "\n",
    "    if len(image.shape) == 3:\n",
    "        image = cv2.cvtColor(image, cv2.COLOR_BGR2GRAY)\n",
    "\n",
    "    if np.mean(image) > 127:  # 127 is the midpoint for 8-bit grayscale\n",
    "        image = cv2.bitwise_not(image)\n",
    "    \n",
    "    # Resize to 28x28 pixels\n",
    "    image = cv2.resize(image, (128, 128))\n",
    "    \n",
    "    # Normalize to [0, 1]\n",
    "    image = image.astype('float32') / 255\n",
    "    image = image.reshape(1, 28, 28, 1)  # Reshape to match model input\n",
    "    \n",
    "    return image\n",
    "\n",
    "# Example usage\n",
    "user_image = preprocess_image('3.png')\n",
    "prediction = lanet5_model.predict(user_image)\n",
    "predicted_label = np.argmax(prediction)\n",
    "print(f\"Predicted Label: {predicted_label}\")"
   ]
  },
  {
   "cell_type": "code",
   "execution_count": 4,
   "id": "9d233d94-610c-4481-930c-7040a58f3cb1",
   "metadata": {},
   "outputs": [
    {
     "name": "stdout",
     "output_type": "stream",
     "text": [
      "\u001b[1m1/1\u001b[0m \u001b[32m━━━━━━━━━━━━━━━━━━━━\u001b[0m\u001b[37m\u001b[0m \u001b[1m0s\u001b[0m 110ms/step\n",
      "Predicted Label: 1\n"
     ]
    }
   ],
   "source": [
    "import cv2\n",
    "import numpy as np\n",
    "\n",
    "def preprocess_image(image_path):\n",
    "    # Read the image\n",
    "    image = cv2.imread(image_path)\n",
    "\n",
    "    # Convert to grayscale to match model input requirements\n",
    "    image = cv2.cvtColor(image, cv2.COLOR_BGR2GRAY)\n",
    "\n",
    "    # Resize to match the model's expected input size\n",
    "    image = cv2.resize(image, (128, 128))\n",
    "\n",
    "    # Normalize the pixel values to [0, 1]\n",
    "    image = image.astype('float32') / 255\n",
    "\n",
    "    # Add channel dimension for grayscale image\n",
    "    image = image.reshape(1, 128, 128, 1)\n",
    "\n",
    "    return image\n",
    "\n",
    "# Example usage\n",
    "user_image = preprocess_image('1.png')\n",
    "prediction = lanet5_model.predict(user_image)\n",
    "predicted_label = np.argmax(prediction)\n",
    "print(f\"Predicted Label: {predicted_label}\")\n"
   ]
  },
  {
   "cell_type": "code",
   "execution_count": 6,
   "id": "5018eea1-9dae-438f-95d4-964ceb78e0ec",
   "metadata": {},
   "outputs": [
    {
     "name": "stdout",
     "output_type": "stream",
     "text": [
      "\u001b[1m1/1\u001b[0m \u001b[32m━━━━━━━━━━━━━━━━━━━━\u001b[0m\u001b[37m\u001b[0m \u001b[1m0s\u001b[0m 37ms/step\n",
      "Predicted Labels: [1 4 8]\n"
     ]
    }
   ],
   "source": [
    "import cv2\n",
    "import numpy as np\n",
    "\n",
    "def preprocess_images(image_paths):\n",
    "    processed_images = []\n",
    "\n",
    "    for image_path in image_paths:\n",
    "\n",
    "        image = cv2.imread(image_path)\n",
    "\n",
    "        image = cv2.cvtColor(image, cv2.COLOR_BGR2GRAY)\n",
    "\n",
    "        image = cv2.resize(image, (128, 128))\n",
    "\n",
    "        image = image.astype('float32') / 255\n",
    "\n",
    "        image = image.reshape(128, 128, 1)\n",
    "\n",
    "        processed_images.append(image)\n",
    "    return np.array(processed_images)\n",
    "image_paths = ['1.png', '5.png', '8.png']\n",
    "user_images = preprocess_images(image_paths)\n",
    "predictions = lanet5_model.predict(user_images)\n",
    "predicted_labels = np.argmax(predictions, axis=1)\n",
    "print(f\"Predicted Labels: {predicted_labels}\")\n"
   ]
  },
  {
   "cell_type": "code",
   "execution_count": null,
   "id": "44f9eb63-4f1c-4136-a970-c69471a489c7",
   "metadata": {},
   "outputs": [],
   "source": []
  }
 ],
 "metadata": {
  "kernelspec": {
   "display_name": "Python 3 (ipykernel)",
   "language": "python",
   "name": "python3"
  },
  "language_info": {
   "codemirror_mode": {
    "name": "ipython",
    "version": 3
   },
   "file_extension": ".py",
   "mimetype": "text/x-python",
   "name": "python",
   "nbconvert_exporter": "python",
   "pygments_lexer": "ipython3",
   "version": "3.12.5"
  }
 },
 "nbformat": 4,
 "nbformat_minor": 5
}
