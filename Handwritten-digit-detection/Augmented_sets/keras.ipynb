{
 "cells": [
  {
   "cell_type": "code",
   "execution_count": 9,
   "id": "c74f9b6d-9a3a-4979-b094-b9460eae30f3",
   "metadata": {},
   "outputs": [
    {
     "name": "stdout",
     "output_type": "stream",
     "text": [
      "New split completed: 164 images in train, 42 images in test.\n"
     ]
    }
   ],
   "source": [
    "import os\n",
    "import shutil\n",
    "import random\n",
    "\n",
    "# Paths to the existing train and test folders\n",
    "train_folder = 'train/'  # Replace with your current train folder path\n",
    "test_folder = 'test/'    # Replace with your current test folder path\n",
    "combined_folder = 'C:/Users/sansk/Desktop/our_project_volume_II/Handwritten-digit-detection/Augmented_sets/combined'  # Temporary folder to combine images\n",
    "new_train_folder = 'C:/Users/sansk/Desktop/our_project_volume_II/Handwritten-digit-detection/Augmented_sets/new_train'  # New train folder\n",
    "new_test_folder = 'C:/Users/sansk/Desktop/our_project_volume_II/Handwritten-digit-detection/Augmented_sets/new_test'    # New test folder\n",
    "\n",
    "# Create combined folder to merge images\n",
    "os.makedirs(combined_folder, exist_ok=True)\n",
    "\n",
    "# Function to get all images from subfolders\n",
    "def get_images_from_subfolders(base_folder):\n",
    "    all_images = []\n",
    "    for class_folder in os.listdir(base_folder):\n",
    "        class_folder_path = os.path.join(base_folder, class_folder)\n",
    "        if os.path.isdir(class_folder_path):  # Ensure it's a subfolder\n",
    "            for image in os.listdir(class_folder_path):\n",
    "                image_path = os.path.join(class_folder_path, image)\n",
    "                if os.path.isfile(image_path):  # Ensure it's a file\n",
    "                    all_images.append(image_path)\n",
    "    return all_images\n",
    "\n",
    "# Get images from both train and test subfolders\n",
    "train_images = get_images_from_subfolders(train_folder)\n",
    "test_images = get_images_from_subfolders(test_folder)\n",
    "\n",
    "# Shuffle the images for randomness\n",
    "all_images = train_images + test_images\n",
    "random.shuffle(all_images)\n",
    "\n",
    "# Split the images into 80% train and 20% test\n",
    "split_index = int(0.8 * len(all_images))\n",
    "train_images = all_images[:split_index]\n",
    "test_images = all_images[split_index:]\n",
    "\n",
    "# Create new train and test folders\n",
    "os.makedirs(new_train_folder, exist_ok=True)\n",
    "os.makedirs(new_test_folder, exist_ok=True)\n",
    "\n",
    "# Copy images into the new train and test folders\n",
    "for image in train_images:\n",
    "    shutil.copy(image, os.path.join(new_train_folder, os.path.basename(image)))\n",
    "\n",
    "for image in test_images:\n",
    "    shutil.copy(image, os.path.join(new_test_folder, os.path.basename(image)))\n",
    "\n",
    "print(f\"New split completed: {len(train_images)} images in train, {len(test_images)} images in test.\")\n"
   ]
  },
  {
   "cell_type": "code",
   "execution_count": null,
   "id": "1bbf59b7-79d0-4688-9d37-631dbf3da42c",
   "metadata": {},
   "outputs": [],
   "source": []
  },
  {
   "cell_type": "code",
   "execution_count": null,
   "id": "1b0c949d-eb56-4212-9c89-bb105bbf9674",
   "metadata": {},
   "outputs": [],
   "source": []
  }
 ],
 "metadata": {
  "kernelspec": {
   "display_name": "Python 3 (ipykernel)",
   "language": "python",
   "name": "python3"
  },
  "language_info": {
   "codemirror_mode": {
    "name": "ipython",
    "version": 3
   },
   "file_extension": ".py",
   "mimetype": "text/x-python",
   "name": "python",
   "nbconvert_exporter": "python",
   "pygments_lexer": "ipython3",
   "version": "3.12.5"
  }
 },
 "nbformat": 4,
 "nbformat_minor": 5
}
