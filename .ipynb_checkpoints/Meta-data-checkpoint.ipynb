{
 "cells": [
  {
   "cell_type": "code",
   "execution_count": 15,
   "id": "9a4ff488-c775-4b2b-ab08-52a74099f1c4",
   "metadata": {},
   "outputs": [],
   "source": [
    "# !pip install Pillow\n",
    "# !pip install pytesseract\n",
    "# !pip install tesseract\n",
    "# !pip install --user scikit-learn\n",
    "# !pip install tesseract-ocr\n",
    "# !pip install libtesseract-dev\n",
    "# !pip install easyocr\n",
    "# !pip install torch torchvision torchaudio --index-url https://download.pytorch.org/whl/cu117"
   ]
  },
  {
   "cell_type": "code",
   "execution_count": 13,
   "id": "be977319-206d-49ae-98ba-fc0d99e01f21",
   "metadata": {},
   "outputs": [
    {
     "name": "stdout",
     "output_type": "stream",
     "text": [
      "\n"
     ]
    }
   ],
   "source": [
    "import pytesseract\n",
    "from PIL import Image, ImageOps\n",
    "import numpy as np\n",
    "\n",
    "pytesseract.pytesseract.tesseract_cmd = r'C:\\Program Files\\Tesseract-OCR\\tesseract.exe'\n",
    "\n",
    "filename = 'Images/002.png'\n",
    "img1 = Image.open(filename).convert('L')\n",
    "img1 = ImageOps.invert(img1) \n",
    "img1 = img1.point(lambda x: 0 if x < 128 else 255, '1') \n",
    "img1 = np.array(img1)\n",
    "\n",
    "text = pytesseract.image_to_string(img1, lang='eng', config='--psm 6')\n",
    "print(text)\n"
   ]
  },
  {
   "cell_type": "code",
   "execution_count": 14,
   "id": "696df5c4-2113-4627-9127-ccd11a50c40c",
   "metadata": {},
   "outputs": [
    {
     "name": "stdout",
     "output_type": "stream",
     "text": [
      "ldlaht dcrte yhile Dculerec QC Ger' qualn Guclou coduno fozgotzen 10fc.\n",
      "Fc nodacd nearl; [01ng Sudceni CACrc caodina 3c3 1 Feroing ropping charocr #ISILOr , nuc-ered LooI- norilng LoI nanie Fclciocr Lhe bleal \"WCCcnc 404C CICeI- GUCSC locr Eaeer Hiahed Fotco Jciini; gouant DOdrg 6458c95 SCrTOL Icorc_ Iadomn Galdcr 4nac_o CLCICICS nanc_css C#Cr1ore ocriaun CUAR cutonn tillcd Re_ RO-ASic CCr-ors nCtCr 0erorei ThC Decine Gocu rcocarina \"Tig Votor eane Leronca crontar eoniatc Viocot coerca-ing Anttanan cjanber cor DC norlne Picgenc_ trongc Ocaltane lonacr Hadan, 1vencs_ olorci nerolnge centi Terolne Fallniln Ycj Canc {3[21n9 coppins chanocr dcr Ecatcc *5 heard You ~Crc coc-cd #ac Loori_ Warkc95 CACrc and Aolnina BOrc dar (ne5e Dcerine Gocu Ener donderna, ICarine pcabting arcning CICAnS dored ca baona Flenn unbrorci Glllnean [Drc?, Oniy Coro Enerc scoken ZaC Gscereu ort \"Lcacrcl\" yhig?\n",
      "05c0 Maru Lond eicorcl Hercdcr 019.\n",
      "Dndnorune Fona Book Ioco Gharocr curning Ulchin purnina 96914 card caodine sccynae ouacr 0erore.\n",
      "Gzely; Eutcdcr J012 3129 indcy Jatiicei cheteat ICSECr\" CIDICIC- ncar G112 ncach- ugen Cilorc _ nothing corc Shjetcr, Gico, ILCE Tutiar Ener Geco Sa01 [0vcie 691431 orei oc HC cas- Cocigancc 4ade talniia Seopocd lnd}e pcrcicd Gbovc ctonco Pallas above Chanca- LooI_ rercnece DC norlne coc Dcjuiling Uad Tanax 6n111n3, dcccun oce Thouah CICS- Shone Shaven; chou alda craven , GGhagti Analeni Corc Yundering Elened Goorc_ lordlv Ran Ooc Eene LCulan Gj0rC] cci jc Raveng \"Kevernore narvcricd UIGSL J1scourg Diain Thouah DOSdcr 1ltie EADllhe-CiC TCic Tang Dorei sgrceln hanan DiCS- above 419 Jhacr JCor Eeaar culpturc Docc han cront FEC#Crior jC Gaveng O1-ina COC_ plecid tag, ODorc otd Croct Nothins rusener uceered- Teathar Ilutieted_ Gontcelr Geiered ccher LS Ja7c ICUD 'DCrorc- IOIIC- Acun 02rore Ehc olcd Gald Fucrertot Coce Mpon Gudqiahi dzcnrye holla Condcred Ucan mjain Folunc ECICOECCI CIC Hhile Acdlec DCar Gadacair Ceroing acncocr feroing roppins crontar Fi91cCr Maeercd; aodina Chanca- LooI- En1g cthina L1SLIAC bicar entar GCcitace dying eocr uroug 58\" locr Zogcrl} Sicicd To_tani COIIC 8c95e On-Gorrod RAnone or €c Iadamn LCICIC- Gla cyatt TC Hc Flun?\n",
      "2in] Wrant Sted\n"
     ]
    }
   ],
   "source": [
    "import easyocr\n",
    "import re\n",
    "reader = easyocr.Reader(['en'])\n",
    "text = reader.readtext(filename, detail=0)\n",
    "text = \" \".join(text)\n",
    "sentences = re.split(r'(?<=[.!?]) +', text)\n",
    "for sentence in sentences:\n",
    "  print(sentence)"
   ]
  },
  {
   "cell_type": "code",
   "execution_count": 11,
   "id": "7dc3bf97-7cac-48b9-b02e-17fc08b5f137",
   "metadata": {},
   "outputs": [
    {
     "name": "stdout",
     "output_type": "stream",
     "text": [
      "If you' re looking for random paragraphs_ you' ve come to the right place.\n",
      "When random word or random sentence isn't quite enough, the next logical step is to find random paragraph Word to replace: random Replace random with: long If you're looking for !long paragraphs, you've come to the right place.\n",
      "When !long word or !long sentence isn't quite enough, the next logical step is to find !long paragraph_\n"
     ]
    }
   ],
   "source": [
    "import easyocr\n",
    "import re\n",
    "import warnings\n",
    "warnings.filterwarnings(\"ignore\", category=UserWarning)\n",
    "reader = easyocr.Reader(['en'], gpu=True)\n",
    "filename = 'Images/003.png'\n",
    "text = reader.readtext(filename, detail=0)\n",
    "text = \" \".join(text)\n",
    "sentences = re.split(r'(?<=[.!?]) +', text)\n",
    "for sentence in sentences:\n",
    "    print(sentence)"
   ]
  },
  {
   "cell_type": "code",
   "execution_count": 1,
   "id": "7de8f0c7-5986-4c21-a1be-d92540c0b4ac",
   "metadata": {
    "scrolled": true
   },
   "outputs": [
    {
     "name": "stdout",
     "output_type": "stream",
     "text": [
      "CUDA available: True\n",
      "Using GPU: NVIDIA GeForce GTX 1650\n"
     ]
    }
   ],
   "source": [
    "import torch\n",
    "print(\"CUDA available:\", torch.cuda.is_available())\n",
    "if torch.cuda.is_available():\n",
    "    print(\"Using GPU:\", torch.cuda.get_device_name(0))\n",
    "else:\n",
    "    print(\"No NVIDIA GPU detected by PyTorch.\")\n"
   ]
  },
  {
   "cell_type": "code",
   "execution_count": null,
   "id": "ff6a098b-549c-48a5-979f-21980beb92f8",
   "metadata": {},
   "outputs": [],
   "source": []
  }
 ],
 "metadata": {
  "kernelspec": {
   "display_name": "Python 3 (ipykernel)",
   "language": "python",
   "name": "python3"
  },
  "language_info": {
   "codemirror_mode": {
    "name": "ipython",
    "version": 3
   },
   "file_extension": ".py",
   "mimetype": "text/x-python",
   "name": "python",
   "nbconvert_exporter": "python",
   "pygments_lexer": "ipython3",
   "version": "3.12.5"
  }
 },
 "nbformat": 4,
 "nbformat_minor": 5
}
