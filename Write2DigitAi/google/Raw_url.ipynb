{
 "cells": [
  {
   "cell_type": "code",
   "execution_count": null,
   "id": "e0df0ce5-484c-41e0-8fec-9025e4b6bd34",
   "metadata": {},
   "outputs": [],
   "source": []
  },
  {
   "cell_type": "code",
   "execution_count": 7,
   "id": "cca76d8c-76f4-4f5e-99df-af82ee67d1ad",
   "metadata": {},
   "outputs": [
    {
     "name": "stdout",
     "output_type": "stream",
     "text": [
      "✅ Formatted URLs saved to: formatted_urls.txt\n"
     ]
    }
   ],
   "source": [
    "input_file = \"raw_urls.txt\" \n",
    "output_file = \"formatted_urls.txt\"\n",
    "\n",
    "with open(input_file, \"r\") as f:\n",
    "    urls = [line.strip() for line in f if line.strip()]  # Remove empty lines\n",
    "\n",
    "# Format the URLs into a proper Python list\n",
    "formatted_urls = \",\\n\".join(f'    \"{url}\"' for url in urls)\n",
    "\n",
    "# Save to a file or print\n",
    "with open(output_file, \"w\") as f:\n",
    "    f.write(f\"urls = [\\n{formatted_urls}\\n]\")\n",
    "\n",
    "print(\"✅ Formatted URLs saved to:\", output_file)\n"
   ]
  },
  {
   "cell_type": "code",
   "execution_count": 8,
   "id": "9cac1a67-90e5-4e4d-b8ab-909f5a13a6dd",
   "metadata": {},
   "outputs": [
    {
     "name": "stdout",
     "output_type": "stream",
     "text": [
      "urls = [\n",
      "    \"https://drive.google.com/open?id=1P1Jw7x2AI41joWKf-1BBBSDdUuSPLJik&usp=drive_copy\",\n",
      "    \"https://drive.google.com/open?id=1PM7EBgV2lnj_3fHu00HoqFfKTFkobBoV&usp=drive_copy\",\n",
      "    \"https://drive.google.com/open?id=1PIvAJp3F4XGVu807694xVDMwglGExp8F&usp=drive_copy\",\n",
      "    \"https://drive.google.com/open?id=1PH-ZZ-dHcQgeEr-7B-CmcCKHxgPojung&usp=drive_copy\",\n",
      "    \"https://drive.google.com/open?id=1PGGQ2NiCDocUqsczGIDff5M7A8cepBML&usp=drive_copy\",\n",
      "    \"https://drive.google.com/open?id=1PAjFJlEwPNedcHZLMM_Xa1_YNMdxCkWM&usp=drive_copy\",\n",
      "    \"https://drive.google.com/open?id=1P8Mj9bejnxFFeeWRQlt8e0HCqGb8tB7v&usp=drive_copy\",\n",
      "    \"https://drive.google.com/open?id=1P55Bk1Ubtl_gK-QNyAOvpMR9ZexpQf98&usp=drive_copy\",\n",
      "    \"https://drive.google.com/open?id=1P3t1oekJymgyp-d3oMCk0Nf_SChREn9y&usp=drive_copy\",\n",
      "    \"https://drive.google.com/open?id=1RVk3UV_pAlHwTeYOmEhjU1Qqz-ExkDVr&usp=drive_copy\",\n",
      "    \"https://drive.google.com/open?id=1R_RsTSMEAYQWChQ_I32xdPDXGeGIrotT&usp=drive_copy\"\n",
      "]\n"
     ]
    }
   ],
   "source": [
    "f = open(\"formatted_urls.txt\", \"r\")\n",
    "print(f.read())"
   ]
  },
  {
   "cell_type": "code",
   "execution_count": null,
   "id": "2d2adc9a-8b7d-461a-9137-fc28733cdd08",
   "metadata": {},
   "outputs": [],
   "source": []
  }
 ],
 "metadata": {
  "kernelspec": {
   "display_name": "Python 3 (ipykernel)",
   "language": "python",
   "name": "python3"
  },
  "language_info": {
   "codemirror_mode": {
    "name": "ipython",
    "version": 3
   },
   "file_extension": ".py",
   "mimetype": "text/x-python",
   "name": "python",
   "nbconvert_exporter": "python",
   "pygments_lexer": "ipython3",
   "version": "3.10.0"
  }
 },
 "nbformat": 4,
 "nbformat_minor": 5
}
